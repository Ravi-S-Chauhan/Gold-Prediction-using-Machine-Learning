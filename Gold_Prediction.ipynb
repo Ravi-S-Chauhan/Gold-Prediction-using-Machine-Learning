{
 "cells": [
  {
   "cell_type": "markdown",
   "metadata": {},
   "source": [
    "Importing libraries"
   ]
  },
  {
   "cell_type": "code",
   "execution_count": 4,
   "metadata": {},
   "outputs": [],
   "source": [
    "import pandas as pd\n",
    "from datetime import datetime\n",
    "import matplotlib.pyplot as plt\n",
    "from yahoofinancials import YahooFinancials\n",
    "from pycaret.regression import *\n",
    "\n"
   ]
  },
  {
   "cell_type": "markdown",
   "metadata": {},
   "source": [
    "We have prepared a list instruments for which we need to import data. yahoofinancials package requires Yahoo ticker symbols. The list contains the ticker symbols and their descriptions. We import that file and extract the tciker symbols and the names as seprarate lists"
   ]
  },
  {
   "cell_type": "code",
   "execution_count": 5,
   "metadata": {},
   "outputs": [
    {
     "data": {
      "text/html": [
       "<div>\n",
       "<style scoped>\n",
       "    .dataframe tbody tr th:only-of-type {\n",
       "        vertical-align: middle;\n",
       "    }\n",
       "\n",
       "    .dataframe tbody tr th {\n",
       "        vertical-align: top;\n",
       "    }\n",
       "\n",
       "    .dataframe thead th {\n",
       "        text-align: right;\n",
       "    }\n",
       "</style>\n",
       "<table border=\"1\" class=\"dataframe\">\n",
       "  <thead>\n",
       "    <tr style=\"text-align: right;\">\n",
       "      <th></th>\n",
       "      <th>Ticker</th>\n",
       "      <th>Description</th>\n",
       "    </tr>\n",
       "  </thead>\n",
       "  <tbody>\n",
       "    <tr>\n",
       "      <th>0</th>\n",
       "      <td>GC=F</td>\n",
       "      <td>Gold</td>\n",
       "    </tr>\n",
       "    <tr>\n",
       "      <th>1</th>\n",
       "      <td>SI=F</td>\n",
       "      <td>Silver</td>\n",
       "    </tr>\n",
       "    <tr>\n",
       "      <th>2</th>\n",
       "      <td>CL=F</td>\n",
       "      <td>Crude Oil</td>\n",
       "    </tr>\n",
       "    <tr>\n",
       "      <th>3</th>\n",
       "      <td>^GSPC</td>\n",
       "      <td>S&amp;P500</td>\n",
       "    </tr>\n",
       "    <tr>\n",
       "      <th>4</th>\n",
       "      <td>PL=F</td>\n",
       "      <td>Platinum</td>\n",
       "    </tr>\n",
       "    <tr>\n",
       "      <th>5</th>\n",
       "      <td>HG=F</td>\n",
       "      <td>Copper</td>\n",
       "    </tr>\n",
       "    <tr>\n",
       "      <th>6</th>\n",
       "      <td>DX=F</td>\n",
       "      <td>Dollar Index</td>\n",
       "    </tr>\n",
       "    <tr>\n",
       "      <th>7</th>\n",
       "      <td>^VIX</td>\n",
       "      <td>Volatility Index</td>\n",
       "    </tr>\n",
       "    <tr>\n",
       "      <th>8</th>\n",
       "      <td>EEM</td>\n",
       "      <td>MSCI EM ETF</td>\n",
       "    </tr>\n",
       "    <tr>\n",
       "      <th>9</th>\n",
       "      <td>EURUSD=X</td>\n",
       "      <td>Euro USD</td>\n",
       "    </tr>\n",
       "    <tr>\n",
       "      <th>10</th>\n",
       "      <td>^N100</td>\n",
       "      <td>Euronext100</td>\n",
       "    </tr>\n",
       "    <tr>\n",
       "      <th>11</th>\n",
       "      <td>^IXIC</td>\n",
       "      <td>Nasdaq</td>\n",
       "    </tr>\n",
       "    <tr>\n",
       "      <th>12</th>\n",
       "      <td>^BSESN</td>\n",
       "      <td>Bse sensex</td>\n",
       "    </tr>\n",
       "    <tr>\n",
       "      <th>13</th>\n",
       "      <td>^NSEI</td>\n",
       "      <td>Nifty 50</td>\n",
       "    </tr>\n",
       "    <tr>\n",
       "      <th>14</th>\n",
       "      <td>^DJI</td>\n",
       "      <td>Dow</td>\n",
       "    </tr>\n",
       "  </tbody>\n",
       "</table>\n",
       "</div>"
      ],
      "text/plain": [
       "      Ticker       Description\n",
       "0       GC=F              Gold\n",
       "1       SI=F            Silver\n",
       "2       CL=F         Crude Oil\n",
       "3      ^GSPC            S&P500\n",
       "4       PL=F          Platinum\n",
       "5       HG=F            Copper\n",
       "6       DX=F      Dollar Index\n",
       "7       ^VIX  Volatility Index\n",
       "8        EEM       MSCI EM ETF\n",
       "9   EURUSD=X          Euro USD\n",
       "10     ^N100       Euronext100\n",
       "11     ^IXIC            Nasdaq\n",
       "12    ^BSESN        Bse sensex\n",
       "13     ^NSEI          Nifty 50\n",
       "14      ^DJI               Dow"
      ]
     },
     "execution_count": 5,
     "metadata": {},
     "output_type": "execute_result"
    }
   ],
   "source": [
    "ticker_details = pd.read_excel(\"Ticker List.xlsx\")\n",
    "ticker = ticker_details['Ticker'].to_list()\n",
    "names = ticker_details['Description'].to_list()\n",
    "ticker_details.head(20)"
   ]
  },
  {
   "cell_type": "markdown",
   "metadata": {},
   "source": [
    "Once we have the list, we need to define what date range we need to import the data for. The period we have chosen is Jan 2010 till 1st Mar 2020. The reason we did not pull data prior to that is because the Global Financial Crisis (GFC) in 2008–09 massively changed the economic and market landscapes. Relationships prior to that period might be of less relevance now.\n",
    "\n",
    "We create a date-range and write it to an empty dataframe named values where we would extract and paste data we pull from yahoofinancials."
   ]
  },
  {
   "cell_type": "code",
   "execution_count": 6,
   "metadata": {},
   "outputs": [],
   "source": [
    "#Preparing Date Range\n",
    "end_date= datetime.strftime(datetime.today(),'%Y-%m-%d')\n",
    "start_date = \"2020-01-01\"\n",
    "date_range = pd.bdate_range(start=start_date,end=end_date)\n",
    "values = pd.DataFrame({ 'Date': date_range})\n",
    "values['Date']= pd.to_datetime(values['Date'])\n"
   ]
  },
  {
   "cell_type": "code",
   "execution_count": 7,
   "metadata": {},
   "outputs": [],
   "source": [
    "#Extracting Data from Yahoo Finance and Adding them to Values table using date as key\n",
    "for i in ticker:\n",
    "    raw_data = YahooFinancials(i)\n",
    "    raw_data = raw_data.get_historical_price_data(start_date, end_date, \"daily\")\n",
    "    df = pd.DataFrame(raw_data[i]['prices'])[['formatted_date','adjclose']]\n",
    "    df.columns = ['Date1',i]\n",
    "    df['Date1']= pd.to_datetime(df['Date1'])\n",
    "    values = values.merge(df,how='left',left_on='Date',right_on='Date1')\n",
    "    values = values.drop(labels='Date1',axis=1)\n"
   ]
  },
  {
   "cell_type": "code",
   "execution_count": 8,
   "metadata": {},
   "outputs": [],
   "source": [
    "#Renaming columns to represent instrument names rather than their ticker codes for ease of readability\n",
    "names.insert(0,'Date')\n",
    "values.columns = names\n",
    "#Front filling the NaN values in the data set\n",
    "values = values.fillna(method=\"ffill\",axis=0)\n",
    "values = values.fillna(method=\"bfill\",axis=0)\n",
    "# Co-ercing numeric type to all columns except Date\n",
    "cols=values.columns.drop('Date')\n",
    "values[cols] = values[cols].apply(pd.to_numeric,errors='coerce').round(decimals=1)\n",
    "imp = ['Gold','Silver', 'Crude Oil', 'S&P500','MSCI EM ETF']"
   ]
  },
  {
   "cell_type": "code",
   "execution_count": 9,
   "metadata": {},
   "outputs": [],
   "source": [
    "# Calculating Short term -Historical Returns\n",
    "change_days = [1,3,5,14,21]\n",
    "data = pd.DataFrame(data=values['Date'])\n",
    "for i in change_days:\n",
    "    x= values[cols].pct_change(periods=i).add_suffix(\"-T-\"+str(i))\n",
    "    data=pd.concat(objs=(data,x),axis=1)\n",
    "    x=[]\n",
    "# Calculating Long term Historical Returns\n",
    "change_days = [60,90,180,250]\n",
    "for i in change_days:\n",
    "    x= values[imp].pct_change(periods=i).add_suffix(\"-T-\"+str(i))\n",
    "    data=pd.concat(objs=(data,x),axis=1)\n",
    "    x=[]\n"
   ]
  },
  {
   "cell_type": "code",
   "execution_count": 10,
   "metadata": {},
   "outputs": [],
   "source": [
    "#Calculating Moving averages for Gold\n",
    "moving_avg = pd.DataFrame(values['Date'],columns=['Date'])\n",
    "moving_avg['Date']=pd.to_datetime(moving_avg['Date'],format='%Y-%b-%d')\n",
    "moving_avg['Gold/15SMA'] = (values['Gold']/(values['Gold'].rolling(window=15).mean()))-1\n",
    "moving_avg['Gold/30SMA'] = (values['Gold']/(values['Gold'].rolling(window=30).mean()))-1\n",
    "moving_avg['Gold/60SMA'] = (values['Gold']/(values['Gold'].rolling(window=60).mean()))-1\n",
    "moving_avg['Gold/90SMA'] = (values['Gold']/(values['Gold'].rolling(window=90).mean()))-1\n",
    "moving_avg['Gold/180SMA'] = (values['Gold']/(values['Gold'].rolling(window=180).mean()))-1\n",
    "moving_avg['Gold/90EMA'] = (values['Gold']/(values['Gold'].ewm(span=90,adjust=True,ignore_na=True).mean()))-1\n",
    "moving_avg['Gold/180EMA'] = (values['Gold']/(values['Gold'].ewm(span=180,adjust=True,ignore_na=True).mean()))-1\n",
    "moving_avg = moving_avg.dropna(axis=0)"
   ]
  },
  {
   "cell_type": "code",
   "execution_count": 11,
   "metadata": {},
   "outputs": [],
   "source": [
    "#Merging Moving Average values to the feature space\n",
    "data['Date']=pd.to_datetime(data['Date'],format='%Y-%b-%d')\n",
    "data = pd.merge(left=data,right=moving_avg,how='left',on='Date')\n",
    "data = data[data['Gold-T-250'].notna()]\n",
    "prediction_data = data.copy()"
   ]
  },
  {
   "cell_type": "code",
   "execution_count": 12,
   "metadata": {},
   "outputs": [
    {
     "name": "stdout",
     "output_type": "stream",
     "text": [
      "Transformation Pipeline and Model Successfully Loaded\n"
     ]
    }
   ],
   "source": [
    "#Loading the stored model\n",
    "regressor_22 = load_model(\"22Day Regressor\");\n"
   ]
  },
  {
   "cell_type": "code",
   "execution_count": 13,
   "metadata": {},
   "outputs": [],
   "source": [
    "#Making Predictions\n",
    "predicted_return_22 = predict_model(regressor_22,data=prediction_data)\n",
    "predicted_return_22=predicted_return_22[['Date','Label']]\n",
    "predicted_return_22.columns = ['Date','Return_22']\n"
   ]
  },
  {
   "cell_type": "code",
   "execution_count": 14,
   "metadata": {},
   "outputs": [],
   "source": [
    "#Adding return Predictions to Gold Values\n",
    "predicted_values = values[['Date','Gold']]\n",
    "predicted_values = predicted_values.tail(len(predicted_return_22))\n",
    "predicted_values = pd.merge(left=predicted_values,right=predicted_return_22,on=['Date'],how='inner')\n",
    "predicted_values['Gold-T+22']=(predicted_values['Gold']*(1+predicted_values['Return_22'])).round(decimals =1)\n"
   ]
  },
  {
   "cell_type": "code",
   "execution_count": 15,
   "metadata": {},
   "outputs": [
    {
     "data": {
      "text/html": [
       "<div>\n",
       "<style scoped>\n",
       "    .dataframe tbody tr th:only-of-type {\n",
       "        vertical-align: middle;\n",
       "    }\n",
       "\n",
       "    .dataframe tbody tr th {\n",
       "        vertical-align: top;\n",
       "    }\n",
       "\n",
       "    .dataframe thead th {\n",
       "        text-align: right;\n",
       "    }\n",
       "</style>\n",
       "<table border=\"1\" class=\"dataframe\">\n",
       "  <thead>\n",
       "    <tr style=\"text-align: right;\">\n",
       "      <th></th>\n",
       "      <th>Date</th>\n",
       "      <th>Gold</th>\n",
       "      <th>Return_22</th>\n",
       "      <th>Gold-T+22</th>\n",
       "      <th>Date-T+22</th>\n",
       "    </tr>\n",
       "  </thead>\n",
       "  <tbody>\n",
       "    <tr>\n",
       "      <th>98</th>\n",
       "      <td>2021-05-03</td>\n",
       "      <td>1791.4</td>\n",
       "      <td>-0.002961</td>\n",
       "      <td>1786.1</td>\n",
       "      <td>2021-05-25</td>\n",
       "    </tr>\n",
       "    <tr>\n",
       "      <th>99</th>\n",
       "      <td>2021-05-04</td>\n",
       "      <td>1775.8</td>\n",
       "      <td>-0.004972</td>\n",
       "      <td>1767.0</td>\n",
       "      <td>2021-05-26</td>\n",
       "    </tr>\n",
       "    <tr>\n",
       "      <th>100</th>\n",
       "      <td>2021-05-05</td>\n",
       "      <td>1784.1</td>\n",
       "      <td>0.000682</td>\n",
       "      <td>1785.3</td>\n",
       "      <td>2021-05-27</td>\n",
       "    </tr>\n",
       "    <tr>\n",
       "      <th>101</th>\n",
       "      <td>2021-05-06</td>\n",
       "      <td>1815.5</td>\n",
       "      <td>0.010835</td>\n",
       "      <td>1835.2</td>\n",
       "      <td>2021-05-28</td>\n",
       "    </tr>\n",
       "    <tr>\n",
       "      <th>102</th>\n",
       "      <td>2021-05-07</td>\n",
       "      <td>1831.1</td>\n",
       "      <td>0.021760</td>\n",
       "      <td>1870.9</td>\n",
       "      <td>2021-05-29</td>\n",
       "    </tr>\n",
       "  </tbody>\n",
       "</table>\n",
       "</div>"
      ],
      "text/plain": [
       "          Date    Gold  Return_22  Gold-T+22  Date-T+22\n",
       "98  2021-05-03  1791.4  -0.002961     1786.1 2021-05-25\n",
       "99  2021-05-04  1775.8  -0.004972     1767.0 2021-05-26\n",
       "100 2021-05-05  1784.1   0.000682     1785.3 2021-05-27\n",
       "101 2021-05-06  1815.5   0.010835     1835.2 2021-05-28\n",
       "102 2021-05-07  1831.1   0.021760     1870.9 2021-05-29"
      ]
     },
     "execution_count": 15,
     "metadata": {},
     "output_type": "execute_result"
    }
   ],
   "source": [
    "#Adding T+22 Date\n",
    "from datetime import datetime, timedelta\n",
    "predicted_values['Date-T+22'] = predicted_values['Date']+timedelta(days = 22)\n",
    "predicted_values.tail()"
   ]
  },
  {
   "cell_type": "markdown",
   "metadata": {},
   "source": [
    "The table output above shows that closing price of Gold on 3th May 2021 was 1,791.4(Dollars) and the model predicts that in next 22-Days the returns would be -0.23 per cent \n",
    "resulting in a price target of 1,786.1(Dollars) by 25th of May 2021"
   ]
  },
  {
   "cell_type": "code",
   "execution_count": 34,
   "metadata": {},
   "outputs": [
    {
     "data": {
      "image/png": "[encoded data removed]",
      "text/plain": [
       "<Figure size 432x288 with 1 Axes>"
      ]
     },
     "metadata": {
      "needs_background": "light"
     },
     "output_type": "display_data"
    }
   ],
   "source": [
    "pds=predicted_values.plot(x ='Date', y='Gold',ylabel='Gold price in $',title=\"Gold v/s Date\")\n"
   ]
  },
  {
   "cell_type": "markdown",
   "metadata": {},
   "source": [
    "Comparison Graph fro the actual and the predicted price on Gold in $.\n"
   ]
  },
  {
   "cell_type": "code",
   "execution_count": 33,
   "metadata": {},
   "outputs": [
    {
     "data": {
      "image/png": "[encoded data removed]",
      "text/plain": [
       "<Figure size 432x288 with 1 Axes>"
      ]
     },
     "metadata": {
      "needs_background": "light"
     },
     "output_type": "display_data"
    }
   ],
   "source": [
    "pf=predicted_values.plot(x=\"Date\",y=[\"Gold\",\"Gold-T+22\"],xlabel=\"Date\",ylabel=\"Price($)\",title=\" prediction v/s Actual (price)\")"
   ]
  }
 ],
 "metadata": {
  "kernelspec": {
   "display_name": "Python 3",
   "language": "python",
   "name": "python3"
  },
  "language_info": {
   "codemirror_mode": {
    "name": "ipython",
    "version": 3
   },
   "file_extension": ".py",
   "mimetype": "text/x-python",
   "name": "python",
   "nbconvert_exporter": "python",
   "pygments_lexer": "ipython3",
   "version": "3.8.5"
  }
 },
 "nbformat": 4,
 "nbformat_minor": 5
}
